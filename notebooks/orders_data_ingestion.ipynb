{
 "cells": [
  {
   "cell_type": "code",
   "execution_count": null,
   "metadata": {
    "id": "NWx3kIFRVp5a"
   },
   "outputs": [],
   "source": [
    "import pandas as pd\n",
    "import sqlite3\n",
    "import time\n",
    "from datetime import datetime"
   ]
  },
  {
   "cell_type": "code",
   "execution_count": null,
   "metadata": {
    "id": "C1cZOrircrwc"
   },
   "outputs": [],
   "source": [
    "def standardize_column_name(column_name):\n",
    "    return column_name.strip().lower().replace(' ', '_')"
   ]
  },
  {
   "cell_type": "code",
   "execution_count": null,
   "metadata": {
    "id": "WHAAS6GbXgWH"
   },
   "outputs": [],
   "source": [
    "def excel_to_sqlite_delta(excel_file: str, db_file: str, table_name: str, unique_key: str):\n",
    "  \"\"\"\n",
    "  Reads an Excel file and updates an SQLite database with new records only.\n",
    "\n",
    "  :param excel_file: Path to the Excel file.\n",
    "  :param db_file: Path to the SQLite database file.\n",
    "  :param table_name: Name of the table to store data in.\n",
    "  :param unique_key: Column name that serves as a unique identifier.\n",
    "  \"\"\"\n",
    "  try:\n",
    "      # Load Excel file into DataFrame\n",
    "      df = pd.read_excel(excel_file)\n",
    "      df.columns = df.columns.map(standardize_column_name)\n",
    "\n",
    "      # Connect to SQLite database\n",
    "      conn = sqlite3.connect(db_file)\n",
    "      cursor = conn.cursor()\n",
    "\n",
    "      # Create table if not exists\n",
    "      df.head(0).to_sql(table_name, conn, if_exists='append', index=False)\n",
    "\n",
    "      # Fetch existing unique keys\n",
    "      cursor.execute(f\"SELECT {unique_key} FROM {table_name}\")\n",
    "      existing_keys = set(row[0] for row in cursor.fetchall())\n",
    "\n",
    "      # Filter out already existing records\n",
    "      new_data = df[~df[unique_key].isin(existing_keys)]\n",
    "\n",
    "      if not new_data.empty:\n",
    "          new_data.to_sql(table_name, conn, if_exists='append', index=False)\n",
    "          print(f\"Added {len(new_data)} new records to {table_name}\")\n",
    "      else:\n",
    "          print(\"No new records to add.\")\n",
    "  except Exception as e:\n",
    "      print(f\"Error updating database: {e}\")\n",
    "  finally:\n",
    "      conn.close()"
   ]
  },
  {
   "cell_type": "code",
   "execution_count": null,
   "metadata": {
    "id": "vp89B_NHXgTp"
   },
   "outputs": [],
   "source": [
    "def query_sqlite(db_file: str, query: str):\n",
    "  \"\"\"\n",
    "  Queries an SQLite database and returns the results.\n",
    "  \"\"\"\n",
    "  try:\n",
    "      conn = sqlite3.connect(db_file)\n",
    "      df = pd.read_sql_query(query, conn)\n",
    "      return df\n",
    "  except Exception as e:\n",
    "      print(f\"Error executing query: {e}\")\n",
    "      return None\n",
    "  finally:\n",
    "      conn.close()"
   ]
  },
  {
   "cell_type": "code",
   "execution_count": null,
   "metadata": {
    "id": "2orXp4M7YrR9"
   },
   "outputs": [],
   "source": [
    "def schedule_updates(excel_file: str, db_file: str, table_name: str, unique_key: str):\n",
    "  \"\"\"\n",
    "  Runs the update process once and subsequently every hour, continuously.\n",
    "  \"\"\"\n",
    "  sleep_time = 3600\n",
    "  while True:\n",
    "      try:\n",
    "          time_now = datetime.now()\n",
    "          print(f\"Running update at {time_now.strftime('%Y-%m-%d %H:%M:%S')}\")\n",
    "          excel_to_sqlite_delta(excel_file, db_file, table_name, unique_key)\n",
    "      except Exception as e:\n",
    "          print(f\"Error in scheduled update: {e}\")\n",
    "      finally:\n",
    "          time.sleep(sleep_time)"
   ]
  },
  {
   "cell_type": "code",
   "execution_count": null,
   "metadata": {
    "id": "gFVZaC_WYKcl"
   },
   "outputs": [],
   "source": [
    "excel_file = '../data/orders_table.xlsx'\n",
    "db_file = '../data/chatbot.db'\n",
    "table_name = 'orders'\n",
    "unique_key = 'Order ID'\n",
    "unique_key = standardize_column_name(unique_key)"
   ]
  },
  {
   "cell_type": "code",
   "execution_count": null,
   "metadata": {
    "colab": {
     "base_uri": "https://localhost:8080/",
     "height": 263
    },
    "executionInfo": {
     "elapsed": 21584,
     "status": "error",
     "timestamp": 1741284090187,
     "user": {
      "displayName": "Prince",
      "userId": "13948313668249168316"
     },
     "user_tz": -330
    },
    "id": "QRMpr4cRVvqa",
    "outputId": "e44d03c6-0847-4cb0-90db-a87163d5f235"
   },
   "outputs": [
    {
     "name": "stdout",
     "output_type": "stream",
     "text": [
      "Running update at 2025-03-06 18:01:08\n",
      "No new records to add.\n"
     ]
    },
    {
     "ename": "KeyboardInterrupt",
     "evalue": "",
     "output_type": "error",
     "traceback": [
      "\u001b[0;31m---------------------------------------------------------------------------\u001b[0m",
      "\u001b[0;31mKeyboardInterrupt\u001b[0m                         Traceback (most recent call last)",
      "\u001b[0;32m<ipython-input-11-306b3ee613cb>\u001b[0m in \u001b[0;36m<cell line: 0>\u001b[0;34m()\u001b[0m\n\u001b[0;32m----> 1\u001b[0;31m \u001b[0mschedule_updates\u001b[0m\u001b[0;34m(\u001b[0m\u001b[0mexcel_file\u001b[0m\u001b[0;34m,\u001b[0m \u001b[0mdb_file\u001b[0m\u001b[0;34m,\u001b[0m \u001b[0mtable_name\u001b[0m\u001b[0;34m,\u001b[0m \u001b[0munique_key\u001b[0m\u001b[0;34m)\u001b[0m\u001b[0;34m\u001b[0m\u001b[0;34m\u001b[0m\u001b[0m\n\u001b[0m",
      "\u001b[0;32m<ipython-input-9-879f3d8918f0>\u001b[0m in \u001b[0;36mschedule_updates\u001b[0;34m(excel_file, db_file, table_name, unique_key)\u001b[0m\n\u001b[1;32m     12\u001b[0m           \u001b[0mprint\u001b[0m\u001b[0;34m(\u001b[0m\u001b[0;34mf\"Error in scheduled update: {e}\"\u001b[0m\u001b[0;34m)\u001b[0m\u001b[0;34m\u001b[0m\u001b[0;34m\u001b[0m\u001b[0m\n\u001b[1;32m     13\u001b[0m       \u001b[0;32mfinally\u001b[0m\u001b[0;34m:\u001b[0m\u001b[0;34m\u001b[0m\u001b[0;34m\u001b[0m\u001b[0m\n\u001b[0;32m---> 14\u001b[0;31m           \u001b[0mtime\u001b[0m\u001b[0;34m.\u001b[0m\u001b[0msleep\u001b[0m\u001b[0;34m(\u001b[0m\u001b[0msleep_time\u001b[0m\u001b[0;34m)\u001b[0m\u001b[0;34m\u001b[0m\u001b[0;34m\u001b[0m\u001b[0m\n\u001b[0m",
      "\u001b[0;31mKeyboardInterrupt\u001b[0m: "
     ]
    }
   ],
   "source": [
    "schedule_updates(excel_file, db_file, table_name, unique_key)"
   ]
  },
  {
   "cell_type": "code",
   "execution_count": null,
   "metadata": {
    "colab": {
     "base_uri": "https://localhost:8080/"
    },
    "executionInfo": {
     "elapsed": 16,
     "status": "ok",
     "timestamp": 1741253707114,
     "user": {
      "displayName": "Prince",
      "userId": "13948313668249168316"
     },
     "user_tz": -330
    },
    "id": "z6x1P6pQaT5a",
    "outputId": "71b46c56-3598-4aeb-a016-63fdf01e782c"
   },
   "outputs": [
    {
     "name": "stdout",
     "output_type": "stream",
     "text": [
      "   order_id customer_name product_category      product_name  size  gender  \\\n",
      "0     41331      John Doe     Casual Shoes   Canvas Sneakers    10    Male   \n",
      "1     44335   Sarah Smith     Formal Shoes    Leather Oxford     8  Female   \n",
      "2     93001  Mike Johnson          Sandals  Beach Flip-Flops    11    Male   \n",
      "3     41007    Lisa Brown         Slippers     Home Slippers     6  Female   \n",
      "4     43033    Alex Green     Casual Shoes  Running Sneakers     9  Unisex   \n",
      "\n",
      "   quantity  price_(usd)           order_date      status payment_method  \\\n",
      "0         1        49.99  2024-12-28 00:00:00     Shipped    Credit Card   \n",
      "1         2       129.99  2025-01-03 00:00:00  Processing         PayPal   \n",
      "2         1        19.99  2025-01-04 00:00:00   Delivered     Debit Card   \n",
      "3         1        14.99  2025-01-07 00:00:00  Processing    Credit Card   \n",
      "4         1        59.99  2025-01-14 00:00:00     Shipped         PayPal   \n",
      "\n",
      "  shipping_address final_sale  \n",
      "0          NY, USA         No  \n",
      "1          LA, USA         No  \n",
      "2          TX, USA         No  \n",
      "3          FL, USA         No  \n",
      "4          IL, USA         No  \n"
     ]
    }
   ],
   "source": [
    "# Query data\n",
    "query = f\"SELECT * FROM {table_name} LIMIT 5;\"\n",
    "result_df = query_sqlite(db_file, query)\n",
    "print(result_df)"
   ]
  },
  {
   "cell_type": "code",
   "execution_count": null,
   "metadata": {
    "id": "lMlnghddaTzt"
   },
   "outputs": [],
   "source": []
  }
 ],
 "metadata": {
  "colab": {
   "provenance": []
  },
  "kernelspec": {
   "display_name": "nexusEnv",
   "language": "python",
   "name": "python3"
  },
  "language_info": {
   "codemirror_mode": {
    "name": "ipython",
    "version": 3
   },
   "file_extension": ".py",
   "mimetype": "text/x-python",
   "name": "python",
   "nbconvert_exporter": "python",
   "pygments_lexer": "ipython3",
   "version": "3.13.2"
  }
 },
 "nbformat": 4,
 "nbformat_minor": 0
}
