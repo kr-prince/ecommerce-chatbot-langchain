{
  "cells": [
    {
      "cell_type": "code",
      "execution_count": 1,
      "metadata": {
        "id": "Lyx8q4ggsqRI"
      },
      "outputs": [
        {
          "name": "stderr",
          "output_type": "stream",
          "text": [
            "/home/prince/anaconda3/envs/nexusEnv/lib/python3.11/site-packages/tqdm/auto.py:21: TqdmWarning: IProgress not found. Please update jupyter and ipywidgets. See https://ipywidgets.readthedocs.io/en/stable/user_install.html\n",
            "  from .autonotebook import tqdm as notebook_tqdm\n"
          ]
        }
      ],
      "source": [
        "import os\n",
        "import time\n",
        "import json\n",
        "import random\n",
        "from datetime import datetime\n",
        "from dotenv import load_dotenv\n",
        "from textwrap import dedent\n",
        "from typing import Annotated, List, Literal, Optional, Callable\n",
        "from typing_extensions import TypedDict\n",
        "from langgraph.graph import StateGraph, START, END\n",
        "from langgraph.graph.message import add_messages, AnyMessage\n",
        "from langchain_groq import ChatGroq\n",
        "from IPython.display import Image, display\n",
        "import sqlite3\n",
        "from pydantic import BaseModel, Field\n",
        "from langchain_core.messages import ToolMessage, AIMessage, trim_messages, HumanMessage\n",
        "from langchain_core.tools import StructuredTool, ToolException, InjectedToolCallId\n",
        "from langgraph.prebuilt import ToolNode, tools_condition\n",
        "from langgraph.checkpoint.memory import MemorySaver\n",
        "from langgraph.types import Command, interrupt\n",
        "from sentence_transformers import SentenceTransformer\n",
        "from pinecone import Pinecone, ServerlessSpec\n",
        "from langchain_core.prompts import ChatPromptTemplate\n",
        "from langchain_core.runnables import Runnable, RunnableConfig, RunnableLambda"
      ]
    },
    {
      "cell_type": "code",
      "execution_count": 2,
      "metadata": {
        "colab": {
          "base_uri": "https://localhost:8080/"
        },
        "id": "FbsCineUsxrO",
        "outputId": "8cddbc7d-f22a-41d1-8a60-a88f327411b1"
      },
      "outputs": [
        {
          "data": {
            "text/plain": [
              "True"
            ]
          },
          "execution_count": 2,
          "metadata": {},
          "output_type": "execute_result"
        }
      ],
      "source": [
        "load_dotenv('../data/.env')"
      ]
    },
    {
      "cell_type": "markdown",
      "metadata": {
        "id": "365NNPj6fI72"
      },
      "source": [
        "## Utils"
      ]
    },
    {
      "cell_type": "code",
      "execution_count": 3,
      "metadata": {
        "id": "Z7KqeH1WfMal"
      },
      "outputs": [],
      "source": [
        "def create_or_load_pinecone_index(index_name: str, embedding_dims: int) -> Pinecone.Index:\n",
        "    \"\"\"Creates or loads a Pinecone index.\"\"\"\n",
        "    pinecone_api_key = os.environ.get(\"PINECONE_API_KEY\")\n",
        "    pc = Pinecone(api_key=pinecone_api_key)\n",
        "\n",
        "    if not pc.has_index(index_name):\n",
        "        pc.create_index(\n",
        "            name=index_name,\n",
        "            dimension=embedding_dims,\n",
        "            metric=\"cosine\",\n",
        "            spec=ServerlessSpec(\n",
        "                cloud=\"aws\",\n",
        "                region=\"us-east-1\"\n",
        "            ),\n",
        "        )\n",
        "        while not pc.describe_index(index_name).status[\"ready\"]:\n",
        "            time.sleep(1)\n",
        "    return pc.Index(index_name)\n",
        "\n",
        "def load_embedding_model(model_name: str) -> SentenceTransformer:\n",
        "    \"\"\"Loads the embedding model.\"\"\"\n",
        "    model = SentenceTransformer(\n",
        "        model_name,\n",
        "        token=os.getenv('HF_API_KEY', None)\n",
        "    )\n",
        "    return model\n",
        "\n",
        "def get_intents_from_query(query_text: str) -> List[str]:\n",
        "    \"\"\"Retrieves a list of intents from the SUPPORTED INTENTS from the given text.\"\"\"\n",
        "    intents = []\n",
        "    for intent in SUPPORTED_INTENTS:\n",
        "        if intent in query_text.lower():\n",
        "            intents.append(intent)\n",
        "    return intents"
      ]
    },
    {
      "cell_type": "markdown",
      "metadata": {
        "id": "VwQT4bOvbU4g"
      },
      "source": [
        "## Tools"
      ]
    },
    {
      "cell_type": "code",
      "execution_count": 4,
      "metadata": {
        "id": "08IKbqWCd5ho"
      },
      "outputs": [],
      "source": [
        "DB_PATH = '../data/chatbot.db'\n",
        "index_name = \"policy-info-index\"\n",
        "top_k: int = 50\n",
        "rerank_top_n: int = 5\n",
        "score_threshold: float = 0.0\n",
        "SUPPORTED_INTENTS = {\n",
        "    \"return\", \"refund\", \"exchange\", \"damaged item\", \"shipping\", \"payment\", \"replacement\"\n",
        "}"
      ]
    },
    {
      "cell_type": "code",
      "execution_count": 5,
      "metadata": {
        "id": "Igj02HaxrUva"
      },
      "outputs": [],
      "source": [
        "def get_similar_products_for_order(order_id: int) -> List[str]:\n",
        "    \"\"\"\n",
        "    Retrieves a list of similar products by given order ID. Use this tool only if the user\n",
        "    asks for a product recommendation. It checks for the same product category,\n",
        "    size and gender(or unisex).\n",
        "\n",
        "    Args:\n",
        "        order_id: The 5-digit order ID.\n",
        "\n",
        "    Returns:\n",
        "        A list of similar product names.\n",
        "\n",
        "    Raises:\n",
        "        ToolException: If no similar products are found or order_id is invalid.\n",
        "    \"\"\"\n",
        "    try:\n",
        "        similar_products = []\n",
        "        if (not isinstance(order_id, int)) or (not (10000 <= order_id <= 99999)):\n",
        "          raise ToolException(\"Order ID must be a five-digit number.\")\n",
        "        with sqlite3.connect(DB_PATH) as conn:\n",
        "            cursor = conn.cursor()\n",
        "\n",
        "            # Get product category, gender, and size for the given order ID\n",
        "            cursor.execute(\"\"\"\n",
        "                SELECT product_category, gender, size\n",
        "                FROM orders\n",
        "                WHERE order_id = ?\n",
        "            \"\"\", (order_id,))\n",
        "\n",
        "            result = cursor.fetchone()\n",
        "\n",
        "            if result:\n",
        "                product_category, gender, size = result\n",
        "\n",
        "                # Find similar products based on gender, category, and size\n",
        "                cursor.execute(\"\"\"\n",
        "                    SELECT product_name\n",
        "                    FROM orders\n",
        "                    WHERE ((gender = ? OR lower(gender) = 'unisex')\n",
        "                        AND product_category = ?\n",
        "                        AND size = ?\n",
        "                        AND order_id != ? )\n",
        "                    ORDER BY quantity DESC\n",
        "                    LIMIT 3\n",
        "                \"\"\", (gender, product_category, size, order_id))\n",
        "\n",
        "                similar_products = [row[0] for row in cursor.fetchall()]\n",
        "\n",
        "        if len(similar_products) == 0:\n",
        "            raise ToolException(\"No similar products found for this order ID.\")\n",
        "        # else:\n",
        "        #     similar_products = '* '+'\\n* '.join(similar_products)\n",
        "    except Exception as ex:\n",
        "        raise ToolException(str(ex))\n",
        "    return similar_products"
      ]
    },
    {
      "cell_type": "code",
      "execution_count": 6,
      "metadata": {
        "colab": {
          "base_uri": "https://localhost:8080/"
        },
        "id": "KhhoqzIUrfWV",
        "outputId": "c0e65fa0-fa7b-47a4-ab42-483d66f1566e"
      },
      "outputs": [
        {
          "data": {
            "text/plain": [
              "['Running Sneakers']"
            ]
          },
          "execution_count": 6,
          "metadata": {},
          "output_type": "execute_result"
        }
      ],
      "source": [
        "get_similar_products_for_order(88562)"
      ]
    },
    {
      "cell_type": "code",
      "execution_count": 7,
      "metadata": {
        "id": "Gog71-oyreAb"
      },
      "outputs": [],
      "source": [
        "product_recommendor_tool = StructuredTool.from_function(\n",
        "    func=get_similar_products_for_order,\n",
        "    name=\"Product-Recommendor-By-OrderID\",\n",
        "    return_direct=True,\n",
        "    parse_docstring=True,\n",
        "    handle_tool_error=True\n",
        ")"
      ]
    },
    {
      "cell_type": "code",
      "execution_count": 8,
      "metadata": {
        "id": "j6U5QGnQc-RN"
      },
      "outputs": [],
      "source": [
        "def generate_return_authorization(order_id: int) -> str:\n",
        "    \"\"\"Generates a return authorization number for the given order ID if user asks to return an order\n",
        "\n",
        "    Args:\n",
        "        order_id: The five-digit order ID.\n",
        "\n",
        "    Returns:\n",
        "        The generated return authorization number.\n",
        "\n",
        "    Raises:\n",
        "        ToolException: If the order ID is not a five-digit number.\n",
        "    \"\"\"\n",
        "    if not (10000 <= order_id <= 99999):\n",
        "        raise ToolException(\"Order ID must be a five-digit number.\")\n",
        "\n",
        "    # Use the order ID to seed the random number generator for deterministic behavior\n",
        "    random.seed(order_id)\n",
        "    random_number = random.randint(10000, 99999)\n",
        "    return f\"RA{random_number}\""
      ]
    },
    {
      "cell_type": "code",
      "execution_count": 9,
      "metadata": {
        "colab": {
          "base_uri": "https://localhost:8080/",
          "height": 0
        },
        "id": "QBo0BbjSd0VO",
        "outputId": "59e75446-3150-47cc-ee12-070ac0a9bf6b"
      },
      "outputs": [
        {
          "data": {
            "text/plain": [
              "'RA33161'"
            ]
          },
          "execution_count": 9,
          "metadata": {},
          "output_type": "execute_result"
        }
      ],
      "source": [
        "generate_return_authorization(89372)"
      ]
    },
    {
      "cell_type": "code",
      "execution_count": 10,
      "metadata": {
        "id": "NHi9ANQIdeh4"
      },
      "outputs": [],
      "source": [
        "return_auth_generator_tool = StructuredTool.from_function(\n",
        "    func=generate_return_authorization,\n",
        "    name=\"Generate-Return-Authorization\",\n",
        "    return_direct=True,\n",
        "    parse_docstring=True,\n",
        "    handle_tool_error=True\n",
        ")"
      ]
    },
    {
      "cell_type": "code",
      "execution_count": 11,
      "metadata": {
        "colab": {
          "base_uri": "https://localhost:8080/",
          "height": 0
        },
        "id": "Hugu3rF6ZvAW",
        "outputId": "db42ede3-e75a-4159-a44c-c9300b5c60cf"
      },
      "outputs": [
        {
          "data": {
            "text/plain": [
              "'RA33161'"
            ]
          },
          "execution_count": 11,
          "metadata": {},
          "output_type": "execute_result"
        }
      ],
      "source": [
        "return_auth_generator_tool.invoke(\n",
        "    {'order_id': 89372}\n",
        ")"
      ]
    },
    {
      "cell_type": "code",
      "execution_count": 12,
      "metadata": {
        "id": "l4OmUmDJd9mu"
      },
      "outputs": [],
      "source": [
        "def get_order_details(order_id: int) -> dict:\n",
        "    \"\"\"\n",
        "    Fetches order details from the database given the order ID.\n",
        "\n",
        "    Args:\n",
        "        order_id: The 5-digit order ID of the order to retrieve.\n",
        "\n",
        "    Returns:\n",
        "        A dictionary containing the order details as key values.\n",
        "\n",
        "    Raises:\n",
        "        ToolException: If no order is found with the given order_id or order_id is invalid.\n",
        "    \"\"\"\n",
        "    try:\n",
        "        if (not isinstance(order_id, int)) or (not (10000 <= order_id <= 99999)):\n",
        "            raise ToolException(\"Order ID must be a five-digit number.\")\n",
        "        with sqlite3.connect(DB_PATH) as conn:\n",
        "            cursor = conn.cursor()\n",
        "            cursor.execute(\"\"\"\n",
        "                SELECT\n",
        "                    order_id, product_category, product_name, size, quantity, `price_(usd)`,\n",
        "                    order_date, status, payment_method, shipping_address, final_sale\n",
        "                FROM orders\n",
        "                WHERE order_id = ?\n",
        "            \"\"\", (order_id,))\n",
        "\n",
        "            result = cursor.fetchone()\n",
        "\n",
        "            if result is None:\n",
        "                raise ToolException(f\"No order found with ID: {order_id}\")\n",
        "\n",
        "            order_details = {\n",
        "                \"order_id\": result[0],\n",
        "                \"product_category\": result[1],\n",
        "                \"product_name\": result[2],\n",
        "                \"size\": result[3],\n",
        "                \"quantity\": result[4],\n",
        "                \"price_(usd)\": result[5],\n",
        "                \"order_date\": datetime.strptime(result[6], '%Y-%m-%d %H:%M:%S').strftime('%Y-%m-%d'),  # Format date\n",
        "                \"status\": result[7],\n",
        "                \"payment_method\": result[8],\n",
        "                \"shipping_address\": result[9],\n",
        "                \"final_sale\": result[10]\n",
        "            }\n",
        "            # return json.dumps(order_details)\n",
        "            return order_details\n",
        "\n",
        "    except sqlite3.Error as ex:\n",
        "        raise ToolException(f\"Database error: {ex}\")\n",
        "    except Exception as ex:\n",
        "        raise ToolException(str(ex))"
      ]
    },
    {
      "cell_type": "code",
      "execution_count": 13,
      "metadata": {
        "colab": {
          "base_uri": "https://localhost:8080/"
        },
        "id": "xxVpTmH7eVTQ",
        "outputId": "f3ff12e4-4d0e-4d27-ffb4-66051aa7a600"
      },
      "outputs": [
        {
          "name": "stdout",
          "output_type": "stream",
          "text": [
            "{'order_id': 88562, 'product_category': 'Casual Shoes', 'product_name': 'Slip-On Sneakers', 'size': 9, 'quantity': 1, 'price_(usd)': 54.99, 'order_date': '2025-01-29', 'status': 'Delivered', 'payment_method': 'Credit Card', 'shipping_address': 'OH, USA', 'final_sale': 'No'}\n"
          ]
        }
      ],
      "source": [
        "print(get_order_details(88562))"
      ]
    },
    {
      "cell_type": "code",
      "execution_count": 14,
      "metadata": {
        "id": "LjFSuObgeD3o"
      },
      "outputs": [],
      "source": [
        "get_order_details_tool = StructuredTool.from_function(\n",
        "    func=get_order_details,\n",
        "    name=\"Get-Order-Details\",\n",
        "    return_direct=True,\n",
        "    parse_docstring=True,\n",
        "    handle_tool_error=True\n",
        ")"
      ]
    },
    {
      "cell_type": "code",
      "execution_count": 15,
      "metadata": {
        "colab": {
          "base_uri": "https://localhost:8080/"
        },
        "collapsed": true,
        "id": "0PHvutY4f1z_",
        "outputId": "aaa78bf7-dad0-4473-dbd6-3600b896a516"
      },
      "outputs": [],
      "source": [
        "pc = Pinecone(os.getenv(\"PINECONE_API_KEY\"))\n",
        "pc_index = create_or_load_pinecone_index(index_name, embedding_dims=768)\n",
        "embedding_model = load_embedding_model('sentence-transformers/all-mpnet-base-v2')"
      ]
    },
    {
      "cell_type": "code",
      "execution_count": 16,
      "metadata": {
        "id": "DJAY8rjnf9p-"
      },
      "outputs": [],
      "source": [
        "def retrieve_relevant_policies_by_query(query_text: str) -> List[str]:\n",
        "    \"\"\"Retrieves the most relevant policies from the vector store for the given user query.\n",
        "    The policies are ranked as per their relevance with the given user query.\n",
        "\n",
        "    Args:\n",
        "        query_text: The user's query string.\n",
        "\n",
        "    Returns:\n",
        "        A list of the most relevant policies for the given query.\n",
        "\n",
        "    Raises:\n",
        "        ToolException: If any error occurs during the process.\n",
        "    \"\"\"\n",
        "    try:\n",
        "        # Search Pinecone index\n",
        "        query_intents = get_intents_from_query(query_text)\n",
        "        query_response = pc_index.query(\n",
        "            vector=embedding_model.encode(query_text).tolist(),\n",
        "            top_k=top_k,\n",
        "            include_metadata=True,\n",
        "            include_values=False,\n",
        "            filter={\n",
        "                \"intents\": {\n",
        "                    \"$in\": query_intents\n",
        "                }\n",
        "            } if len(query_intents) > 0 else None\n",
        "        )\n",
        "\n",
        "        # Prepare policies for reranking\n",
        "        policies = [\n",
        "            {\"id\": x[\"id\"], \"text\": x[\"metadata\"][\"text\"]}\n",
        "            for x in query_response[\"matches\"]\n",
        "        ]\n",
        "\n",
        "        # Rerank policies\n",
        "        reranked_policies = pc.inference.rerank(\n",
        "            model=\"bge-reranker-v2-m3\",\n",
        "            query=query_text,\n",
        "            documents=policies,\n",
        "            top_n=rerank_top_n,\n",
        "            return_documents=True,\n",
        "        )\n",
        "\n",
        "        # Filter out low-scoring policies\n",
        "        filtered_policies = [\n",
        "            doc.document.text for doc in reranked_policies.rerank_result.data \\\n",
        "                if doc[\"score\"] >= score_threshold\n",
        "        ]\n",
        "        # filtered_policies = '* '+'\\n* '.join(filtered_policies)\n",
        "        return filtered_policies\n",
        "\n",
        "    except Exception as ex:\n",
        "        raise ToolException(str(ex))"
      ]
    },
    {
      "cell_type": "code",
      "execution_count": 17,
      "metadata": {
        "colab": {
          "base_uri": "https://localhost:8080/"
        },
        "id": "c8ocMPrrgQ40",
        "outputId": "20a63550-2a57-468a-95ce-32e9c41ba362"
      },
      "outputs": [
        {
          "name": "stdout",
          "output_type": "stream",
          "text": [
            "['damaged or defective items should be reported within 7 days of delivery.', 'the company may request the return of the damaged item before issuing a refund or replacement.', 'photos of the damage are required when reporting the issue.', 'a replacement will be sent free of charge or a full refund will be issued.']\n"
          ]
        }
      ],
      "source": [
        "query_text = 'what is the process for damaged items?'\n",
        "similar_policies = retrieve_relevant_policies_by_query(query_text)\n",
        "print(similar_policies)"
      ]
    },
    {
      "cell_type": "code",
      "execution_count": 18,
      "metadata": {
        "id": "7Xr2lgnggN3n"
      },
      "outputs": [],
      "source": [
        "get_relevant_policies_by_query_tool = StructuredTool.from_function(\n",
        "    func=retrieve_relevant_policies_by_query,\n",
        "    name=\"Get-Relevant-Policies-By-Query\",\n",
        "    return_direct=True,\n",
        "    parse_docstring=True,\n",
        "    handle_tool_error=True\n",
        ")"
      ]
    },
    {
      "cell_type": "code",
      "execution_count": 19,
      "metadata": {
        "id": "H72M8l_bn7yS"
      },
      "outputs": [],
      "source": [
        "def days_since_date(date_str: str) -> int:\n",
        "    \"\"\"Calculates the number of days passed since the given order date.\n",
        "\n",
        "    Args:\n",
        "        date_str: The date string in YYYY-MM-DD format.\n",
        "\n",
        "    Returns:\n",
        "        The number of days passed since the given order date.\n",
        "\n",
        "    Raises:\n",
        "        ToolException: If the date string is not in the correct format or if there's an error during date processing.\n",
        "    \"\"\"\n",
        "    try:\n",
        "        date_obj = datetime.strptime(date_str, \"%Y-%m-%d\")\n",
        "        today = datetime.now()\n",
        "        delta = today - date_obj\n",
        "        return delta.days\n",
        "    except ValueError:\n",
        "        raise ToolException(\"Incorrect date format. Please use YYYY-MM-DD.\")\n",
        "    except Exception as e:\n",
        "        raise ToolException(f\"An error occurred: {e}\")"
      ]
    },
    {
      "cell_type": "code",
      "execution_count": 20,
      "metadata": {
        "colab": {
          "base_uri": "https://localhost:8080/"
        },
        "id": "8lqgNCehoKka",
        "outputId": "f64cdacb-2886-4248-e188-1a595a6ccb49"
      },
      "outputs": [
        {
          "data": {
            "text/plain": [
              "10"
            ]
          },
          "execution_count": 20,
          "metadata": {},
          "output_type": "execute_result"
        }
      ],
      "source": [
        "days_since_date('2025-03-01')"
      ]
    },
    {
      "cell_type": "code",
      "execution_count": 21,
      "metadata": {
        "id": "0yii7BIOoSGD"
      },
      "outputs": [],
      "source": [
        "days_since_date_tool = StructuredTool.from_function(\n",
        "    func=days_since_date,\n",
        "    name=\"Days-Since-Date\",\n",
        "    return_direct=True,\n",
        "    parse_docstring=True,\n",
        "    handle_tool_error=True\n",
        ")"
      ]
    },
    {
      "cell_type": "code",
      "execution_count": 22,
      "metadata": {
        "colab": {
          "base_uri": "https://localhost:8080/"
        },
        "id": "glOd7ZKBcpmk",
        "outputId": "ce8ed3e3-4dea-4233-8b37-83a6bf3cfa05"
      },
      "outputs": [
        {
          "name": "stdout",
          "output_type": "stream",
          "text": [
            "Days-Since-Date\n",
            "Calculates the number of days passed since the given order date.\n",
            "{'date_str': {'description': 'The date string in YYYY-MM-DD format.', 'title': 'Date Str', 'type': 'string'}}\n"
          ]
        }
      ],
      "source": [
        "print(days_since_date_tool.name)\n",
        "print(days_since_date_tool.description)\n",
        "print(days_since_date_tool.args)"
      ]
    },
    {
      "cell_type": "code",
      "execution_count": null,
      "metadata": {
        "id": "yY63K0_fldRe"
      },
      "outputs": [],
      "source": []
    },
    {
      "cell_type": "markdown",
      "metadata": {
        "id": "gxBYUmY8o446"
      },
      "source": [
        "## Start"
      ]
    },
    {
      "cell_type": "code",
      "execution_count": 23,
      "metadata": {
        "id": "JXL6p8SmpJF2"
      },
      "outputs": [],
      "source": [
        "def handle_tool_error(state) -> dict:\n",
        "    error = state.get(\"error\")\n",
        "    tool_calls = state[\"messages\"][-1].tool_calls\n",
        "    return {\n",
        "        \"messages\": [\n",
        "            ToolMessage(\n",
        "                content=f\"Error: {repr(error)}\\n please fix your mistakes.\",\n",
        "                tool_call_id=tc[\"id\"],\n",
        "            )\n",
        "            for tc in tool_calls\n",
        "        ]\n",
        "    }\n",
        "\n",
        "\n",
        "def create_tool_node_with_fallback(tools: list) -> dict:\n",
        "    return ToolNode(tools).with_fallbacks(\n",
        "        [RunnableLambda(handle_tool_error)], exception_key=\"error\"\n",
        "    )\n",
        "\n",
        "\n",
        "def _print_event(event: dict, _printed: set, max_length=1500):\n",
        "    current_state = event.get(\"dialog_state\")\n",
        "    if current_state:\n",
        "        print(\"Currently in: \", current_state[-1])\n",
        "    message = event.get(\"messages\")\n",
        "    if message:\n",
        "        if isinstance(message, list):\n",
        "            message = message[-1]\n",
        "        if message.id not in _printed:\n",
        "            msg_repr = message.pretty_repr(html=True)\n",
        "            if len(msg_repr) > max_length:\n",
        "                msg_repr = msg_repr[:max_length] + \" ... (truncated)\"\n",
        "            print(msg_repr)\n",
        "            _printed.add(message.id)"
      ]
    },
    {
      "cell_type": "code",
      "execution_count": null,
      "metadata": {
        "id": "W-FAqFWPpIhF"
      },
      "outputs": [],
      "source": []
    },
    {
      "cell_type": "code",
      "execution_count": 24,
      "metadata": {
        "id": "vCNwm4XzldLv"
      },
      "outputs": [],
      "source": [
        "class State(TypedDict):\n",
        "    messages: Annotated[list[AnyMessage], add_messages]"
      ]
    },
    {
      "cell_type": "code",
      "execution_count": 25,
      "metadata": {
        "id": "5SMClH9JldJZ"
      },
      "outputs": [],
      "source": [
        "class Assistant:\n",
        "    def __init__(self, runnable: Runnable):\n",
        "        self.runnable = runnable\n",
        "\n",
        "    def __call__(self, state: State, config: RunnableConfig):\n",
        "        while True:\n",
        "            configuration = config.get(\"configurable\", {})\n",
        "            result = self.runnable.invoke(state)\n",
        "            # If the LLM happens to return an empty response, we will re-prompt it\n",
        "            # for an actual response.\n",
        "            if not result.tool_calls and (\n",
        "                not result.content\n",
        "                or isinstance(result.content, list)\n",
        "                and not result.content[0].get(\"text\")\n",
        "            ):\n",
        "                messages = state[\"messages\"] + [(\"user\", \"Respond with a real output.\")]\n",
        "                state = {**state, \"messages\": messages}\n",
        "            else:\n",
        "                break\n",
        "        return {\"messages\": result}"
      ]
    },
    {
      "cell_type": "code",
      "execution_count": 26,
      "metadata": {
        "id": "Dxm8MuRGldHf"
      },
      "outputs": [],
      "source": [
        "llm = ChatGroq(\n",
        "    # model='gemma2-9b-it',\n",
        "    model='llama3-70b-8192',\n",
        "    temperature=0.3,\n",
        "    max_tokens=256,\n",
        "    api_key=os.getenv('GROQ_API_KEY')\n",
        ")"
      ]
    },
    {
      "cell_type": "code",
      "execution_count": 27,
      "metadata": {
        "id": "ke7MlCTlldFL"
      },
      "outputs": [],
      "source": [
        "primary_assistant_prompt = ChatPromptTemplate.from_messages(\n",
        "    [\n",
        "        (\n",
        "            \"system\",\n",
        "            dedent(\"\"\"\\\n",
        "            You are a specialised customer support assistant chatbot for a footwear business. You MUST only answer questions related to business.\n",
        "\n",
        "            ## DECISION MAKING RULES\n",
        "\n",
        "            Follow the below rules very strictly for doing your job:\n",
        "                1. You MUST ALWAYS answer query using only the information provided by your tools.\n",
        "                2. If the user is asking for some process related information, use the tool and user query to fetch the policy information, and return the result. Ex - what is the return policy?\n",
        "                3. If the user is asking to perform any action given any specific order Id, use the tools to fetch both order details and policy details. Ex - i want to return my order 45673\n",
        "                4. In case of any exchange, return or refund be very careful about policy rules and make sure they are not violated. Ex - sale items, days passed since order, etc.\n",
        "                5. While checking eligibility for return/exchange etc. be careful about all the policy rules applicable. Always use tool to calculate days passed since order date.\n",
        "                6. In case user is asking for product recommendation just use the order Id and the required tool.\n",
        "                7. If the user is sure to return the product, first check eligibility, then call the tool to generate request authorization number and send it back to the user.\n",
        "                8. Do not create or assume any information. Use the information provided by the tools ONLY. If you cannot answer say you cannot.\n",
        "                9. The final answer should be very crisp and to the point in max 2-3 sentences. It also should be conversational and human-like.\n",
        "                10. Don't refer the user to chatbot. You are the chatbot and should do the job.\n",
        "            \n",
        "            ## END OF RULES\n",
        "            \"\"\")\n",
        "        ),\n",
        "        (\"placeholder\", \"{messages}\"),\n",
        "    ]\n",
        ")\n"
      ]
    },
    {
      "cell_type": "code",
      "execution_count": 28,
      "metadata": {
        "colab": {
          "base_uri": "https://localhost:8080/"
        },
        "id": "_2zTkIsgqk6j",
        "outputId": "4f29ca8e-5633-4203-e61f-f2e8f926b953"
      },
      "outputs": [
        {
          "name": "stdout",
          "output_type": "stream",
          "text": [
            "You are a specialised customer support assistant chatbot for a footwear business. You MUST only answer questions related to business.\n",
            "\n",
            "## DECISION MAKING RULES\n",
            "\n",
            "Follow the below rules very strictly for doing your job:\n",
            "    1. You MUST ALWAYS answer query using only the information provided by your tools.\n",
            "    2. If the user is asking for some process related information, use the tool and user query to fetch the policy information, and return the result. Ex - what is the return policy?\n",
            "    3. If the user is asking to perform any action given any specific order Id, use the tools to fetch both order details and policy details. Ex - i want to return my order 45673\n",
            "    4. In case of any exchange, return or refund be very careful about policy rules and make sure they are not violated. Ex - sale items, days passed since order, etc.\n",
            "    5. While checking eligibility for return/exchange etc. be careful about all the policy rules applicable. Always use tool to calculate days passed since order date.\n",
            "    6. In case user is asking for product recommendation just use the order Id and the required tool.\n",
            "    7. If the user is sure to return the product, first check eligibility, then call the tool to generate request authorization number and send it back to the user.\n",
            "    8. Do not create or assume any information. Use the information provided by the tools ONLY. If you cannot answer say you cannot.\n",
            "    9. The final answer should be very crisp and to the point in max 2-3 sentences. It also should be conversational and human-like.\n",
            "    10. Don't refer the user to chatbot. You are the chatbot and should do the job.\n",
            "\n",
            "## END OF RULES\n",
            "\n"
          ]
        }
      ],
      "source": [
        "print(primary_assistant_prompt.messages[0].prompt.template)"
      ]
    },
    {
      "cell_type": "code",
      "execution_count": 29,
      "metadata": {
        "id": "aobKI49wnPL4"
      },
      "outputs": [],
      "source": [
        "primary_assistant_safe_tools = [\n",
        "    get_order_details_tool,\n",
        "    get_relevant_policies_by_query_tool,\n",
        "    days_since_date_tool,\n",
        "    product_recommendor_tool,\n",
        "]\n",
        "\n",
        "primary_assistant_sensitive_tools = [\n",
        "    return_auth_generator_tool,\n",
        "]\n",
        "\n",
        "primary_assistant_tools = primary_assistant_safe_tools + primary_assistant_sensitive_tools"
      ]
    },
    {
      "cell_type": "code",
      "execution_count": 30,
      "metadata": {
        "id": "BhP7EL1qnWJ4"
      },
      "outputs": [],
      "source": [
        "primary_assistant_runnable = primary_assistant_prompt | llm.bind_tools(\n",
        "    primary_assistant_tools\n",
        ")"
      ]
    },
    {
      "cell_type": "code",
      "execution_count": 31,
      "metadata": {
        "id": "bjVlPaQbxSsR"
      },
      "outputs": [],
      "source": [
        "builder = StateGraph(State)"
      ]
    },
    {
      "cell_type": "code",
      "execution_count": 32,
      "metadata": {
        "colab": {
          "base_uri": "https://localhost:8080/"
        },
        "id": "Zxs4LaxwNEqA",
        "outputId": "c0c316ec-b994-4be5-8a2e-28efcbff91c5"
      },
      "outputs": [
        {
          "data": {
            "text/plain": [
              "<langgraph.graph.state.StateGraph at 0x7d4ff8da01d0>"
            ]
          },
          "execution_count": 32,
          "metadata": {},
          "output_type": "execute_result"
        }
      ],
      "source": [
        "# Define nodes and edges: these do the work\n",
        "builder.add_node(\"assistant\", Assistant(primary_assistant_runnable))\n",
        "builder.add_node(\n",
        "    \"safe_tools\", create_tool_node_with_fallback(primary_assistant_safe_tools)\n",
        ")\n",
        "builder.add_node(\n",
        "    \"sensitive_tools\", create_tool_node_with_fallback(primary_assistant_sensitive_tools)\n",
        ")\n",
        "builder.add_edge(START, \"assistant\")"
      ]
    },
    {
      "cell_type": "code",
      "execution_count": 33,
      "metadata": {
        "id": "BoiSYT8yNLs4"
      },
      "outputs": [],
      "source": [
        "def route_tools(state: State):\n",
        "    next_node = tools_condition(state)\n",
        "    # If no tools are invoked, return to the user\n",
        "    if next_node == END:\n",
        "        return END\n",
        "    ai_message = state[\"messages\"][-1]\n",
        "    # This assumes single tool calls. To handle parallel tool calling, you'd want to\n",
        "    # use an ANY condition\n",
        "    first_tool_call = ai_message.tool_calls[0]\n",
        "    sensitive_tool_names = {t.name for t in primary_assistant_sensitive_tools}\n",
        "    if first_tool_call[\"name\"] in sensitive_tool_names:\n",
        "        return \"sensitive_tools\"\n",
        "    return \"safe_tools\""
      ]
    },
    {
      "cell_type": "code",
      "execution_count": 34,
      "metadata": {
        "colab": {
          "base_uri": "https://localhost:8080/"
        },
        "id": "glOXNfnA6I-j",
        "outputId": "28f06f84-bdf0-4dba-a07d-2581e5b6aec0"
      },
      "outputs": [
        {
          "data": {
            "text/plain": [
              "<langgraph.graph.state.StateGraph at 0x7d4ff8da01d0>"
            ]
          },
          "execution_count": 34,
          "metadata": {},
          "output_type": "execute_result"
        }
      ],
      "source": [
        "builder.add_conditional_edges(\n",
        "    \"assistant\", route_tools, [\"safe_tools\", \"sensitive_tools\", END]\n",
        ")\n",
        "builder.add_edge(\"safe_tools\", \"assistant\")\n",
        "builder.add_edge(\"sensitive_tools\", \"assistant\")"
      ]
    },
    {
      "cell_type": "code",
      "execution_count": 35,
      "metadata": {
        "id": "iFCGxSh0bDaF"
      },
      "outputs": [],
      "source": [
        "# The checkpointer lets the graph persist its state\n",
        "# this is a complete memory for the entire graph.\n",
        "memory = MemorySaver()\n",
        "graph = builder.compile(\n",
        "    checkpointer=memory,\n",
        "    interrupt_before=[\"sensitive_tools\"]\n",
        ")"
      ]
    },
    {
      "cell_type": "code",
      "execution_count": 36,
      "metadata": {
        "colab": {
          "base_uri": "https://localhost:8080/",
          "height": 308
        },
        "id": "lL4AJH5Js11A",
        "outputId": "5028385d-a725-4af4-944d-e79b8b93a16b"
      },
      "outputs": [
        {
          "data": {
            "image/png": "[encoded data removed]",
            "text/plain": [
              "<IPython.core.display.Image object>"
            ]
          },
          "metadata": {},
          "output_type": "display_data"
        }
      ],
      "source": [
        "from IPython.display import Image, display\n",
        "\n",
        "try:\n",
        "    display(Image(graph.get_graph(xray=True).draw_mermaid_png()))\n",
        "except Exception as ex:\n",
        "    # This requires some extra dependencies and is optional\n",
        "    print(ex)\n",
        "    pass"
      ]
    },
    {
      "cell_type": "code",
      "execution_count": null,
      "metadata": {
        "id": "4R1emBgkyST_"
      },
      "outputs": [],
      "source": [
        "import shutil\n",
        "import uuid\n",
        "\n",
        "# Let's create an example conversation a user might have with the assistant\n",
        "tutorial_questions = [\n",
        "    \"what is the policy information regarding the return process?\",\n",
        "    \"who is the prime minister of india?\",\n",
        "    \"can you give me the details of order 50570?\",\n",
        "    \"I want to exchage my order 50570\",\n",
        "    \"i want to know about the return policy for damaged items\",\n",
        "    \"I want to exchange my running shoes with casual ones.\",\n",
        "    \"I want to know the process of refund\",\n",
        "    \"I want to return my order 89694\",\n",
        "    \"my order number is 88562. Can you recommend another product for me?\",\n",
        "    \"can you tell me when was shahrukh khan born?\",\n",
        "    \"i want to return order 43973?\"\n",
        "]\n"
      ]
    },
    {
      "cell_type": "code",
      "execution_count": null,
      "metadata": {
        "id": "AwK9weGNzEEU"
      },
      "outputs": [],
      "source": [
        "thread_id = str(uuid.uuid4())\n",
        "\n",
        "config = {\n",
        "    \"configurable\": {\n",
        "        # Checkpoints are accessed by thread_id\n",
        "        \"thread_id\": thread_id,\n",
        "    },\n",
        "    # \"recursion_limit\": 3\n",
        "}\n"
      ]
    },
    {
      "cell_type": "code",
      "execution_count": null,
      "metadata": {
        "id": "r3YtyhRZzIya"
      },
      "outputs": [],
      "source": [
        "_printed = set()\n",
        "# We can reuse the tutorial questions from part 1 to see how it does.\n",
        "for question in tutorial_questions:\n",
        "    events = graph.stream(\n",
        "        {\"messages\": (\"user\", question)}, config, stream_mode=\"values\"\n",
        "    )\n",
        "    for event in events:\n",
        "        _print_event(event, _printed)\n",
        "    # result = graph.invoke(\n",
        "    #     {\"messages\": [(\"user\", question)]},\n",
        "    #     config\n",
        "    # )\n",
        "    snapshot = graph.get_state(config)\n",
        "    while snapshot.next:\n",
        "        # We have an interrupt! The agent is trying to use a tool, and the user can approve or deny it\n",
        "        # Note: This code is all outside of your graph. Typically, you would stream the output to a UI.\n",
        "        # Then, you would have the frontend trigger a new run via an API call when the user has provided input.\n",
        "        try:\n",
        "            user_input = input(\n",
        "                \"Do you approve of the above actions? Type 'y' to continue;\"\n",
        "                \" otherwise, explain your requested changed.\\n\\n\"\n",
        "            )\n",
        "        except:\n",
        "            user_input = \"y\"\n",
        "        # if user_input.strip() == \"y\":\n",
        "        if user_input.strip().startswith(\"yes\"):\n",
        "            # Just continue\n",
        "            result = graph.invoke(\n",
        "                None,\n",
        "                config,\n",
        "            )\n",
        "        else:\n",
        "            # Satisfy the tool invocation by\n",
        "            # providing instructions on the requested changes / change of mind\n",
        "            result = graph.invoke(\n",
        "                {\n",
        "                    \"messages\": [\n",
        "                        ToolMessage(\n",
        "                            tool_call_id=event[\"messages\"][-1].tool_calls[0][\"id\"],\n",
        "                            content=f\"Tool call denied by user. Reasoning: '{user_input}'. Ask user for product recommendation.\",\n",
        "                        )\n",
        "                    ]\n",
        "                },\n",
        "                config,\n",
        "            )\n",
        "        snapshot = graph.get_state(config)\n",
        "\n",
        "    snapshot.values['messages'] = trim_messages(\n",
        "        snapshot.values['messages'],\n",
        "        strategy=\"last\",\n",
        "        token_counter=llm,\n",
        "        max_tokens=1024,\n",
        "        start_on=\"human\",\n",
        "        end_on=(\"human\", \"tool\"),\n",
        "        include_system=True,\n",
        "    )"
      ]
    },
    {
      "cell_type": "code",
      "execution_count": null,
      "metadata": {},
      "outputs": [],
      "source": []
    },
    {
      "cell_type": "code",
      "execution_count": null,
      "metadata": {},
      "outputs": [],
      "source": []
    },
    {
      "cell_type": "code",
      "execution_count": 39,
      "metadata": {
        "colab": {
          "base_uri": "https://localhost:8080/",
          "height": 715
        },
        "id": "p72FL3iQUxU4",
        "outputId": "f08d8e0c-08ae-458b-d1b6-29ce137c59e8"
      },
      "outputs": [
        {
          "name": "stderr",
          "output_type": "stream",
          "text": [
            "/tmp/ipykernel_37777/4272001211.py:33: UserWarning: You have not specified a value for the `type` parameter. Defaulting to the 'tuples' format for chatbot messages, but this is deprecated and will be removed in a future version of Gradio. Please set type='messages' instead, which uses openai-style dictionaries with 'role' and 'content' keys.\n",
            "  chatbot = gr.Chatbot(elem_id=\"chatbot\", height=450, bubble_full_width=False)\n",
            "/tmp/ipykernel_37777/4272001211.py:33: DeprecationWarning: The 'bubble_full_width' parameter is deprecated and will be removed in a future version. This parameter no longer has any effect.\n",
            "  chatbot = gr.Chatbot(elem_id=\"chatbot\", height=450, bubble_full_width=False)\n"
          ]
        },
        {
          "name": "stdout",
          "output_type": "stream",
          "text": [
            "* Running on local URL:  http://127.0.0.1:7860\n",
            "* Running on public URL: https://6164508639d2b4bd64.gradio.live\n",
            "\n",
            "This share link expires in 72 hours. For free permanent hosting and GPU upgrades, run `gradio deploy` from the terminal in the working directory to deploy to Hugging Face Spaces (https://huggingface.co/spaces)\n"
          ]
        },
        {
          "data": {
            "text/html": [
              "<div><iframe src=\"https://6164508639d2b4bd64.gradio.live\" width=\"100%\" height=\"500\" allow=\"autoplay; camera; microphone; clipboard-read; clipboard-write;\" frameborder=\"0\" allowfullscreen></iframe></div>"
            ],
            "text/plain": [
              "<IPython.core.display.HTML object>"
            ]
          },
          "metadata": {},
          "output_type": "display_data"
        },
        {
          "data": {
            "text/plain": []
          },
          "execution_count": 39,
          "metadata": {},
          "output_type": "execute_result"
        }
      ],
      "source": [
        "import gradio as gr\n",
        "import time\n",
        "\n",
        "\n",
        "# Function to handle synchronous responses with a typing effect\n",
        "def sync_chatbot_response(message, history):\n",
        "    try:\n",
        "        response = graph.invoke({\n",
        "            \"messages\": [(\"user\", message)]\n",
        "        }, config)['messages'][-1].content\n",
        "\n",
        "        history.append((f\"👤 {message}\", \"\"))  # Append user message\n",
        "        for i in range(len(response)):\n",
        "            time.sleep(0.02)  # Typing effect delay\n",
        "            history[-1] = (f\"👤 {message}\", f\"🤖 {response[:i+1]}\")\n",
        "            yield history, \"\"\n",
        "    except Exception as e:\n",
        "        print(f\"Sync Error: {e}\")\n",
        "        history.append((f\"👤 {message}\", f\"⚠️ Error: {str(e)}\"))\n",
        "        yield history, \"\"\n",
        "\n",
        "# Gradio UI with a fixed chat window width\n",
        "with gr.Blocks(css=\"\"\"\n",
        "    body {background-color: #f8f9fa; font-family: 'Arial', sans-serif;}\n",
        "    .gradio-container {max-width: 700px; margin: auto; text-align: center;}  /* Centering everything */\n",
        "    #chatbot {border-radius: 10px; background: white; box-shadow: 2px 2px 10px rgba(0, 0, 0, 0.1);\n",
        "              width: 100%; min-height: 450px; max-width: 700px; margin: auto;} /* Fixed width from start */\n",
        "    .message-box {width: 100%;} /* Fix input width */\n",
        "\"\"\") as demo:\n",
        "\n",
        "    gr.Markdown(\"## 👟 **SoleMate – Your Footwear Assistant**\", elem_id=\"banner\")\n",
        "\n",
        "    chatbot = gr.Chatbot(elem_id=\"chatbot\", height=450, bubble_full_width=False)\n",
        "\n",
        "    msg = gr.Textbox(placeholder=\"👋 Ask me about returns, exchanges, or orders...\", label=\"\", elem_classes=\"message-box\")\n",
        "\n",
        "    send_btn = gr.Button(\"🚀 Send\")\n",
        "\n",
        "    # Sync response handler with message clearing\n",
        "    send_btn.click(sync_chatbot_response, inputs=[msg, chatbot], outputs=[chatbot, msg], queue=True)\n",
        "    msg.submit(sync_chatbot_response, inputs=[msg, chatbot], outputs=[chatbot, msg], queue=True)\n",
        "\n",
        "# Launch the UI\n",
        "demo.launch(share=True)"
      ]
    },
    {
      "cell_type": "code",
      "execution_count": null,
      "metadata": {
        "id": "37vaknEEWCGd"
      },
      "outputs": [],
      "source": []
    },
    {
      "cell_type": "code",
      "execution_count": null,
      "metadata": {
        "id": "poJRD4DCUrEG"
      },
      "outputs": [],
      "source": []
    }
  ],
  "metadata": {
    "colab": {
      "collapsed_sections": [
        "365NNPj6fI72",
        "VwQT4bOvbU4g"
      ],
      "provenance": []
    },
    "kernelspec": {
      "display_name": "nexusEnv",
      "language": "python",
      "name": "python3"
    },
    "language_info": {
      "codemirror_mode": {
        "name": "ipython",
        "version": 3
      },
      "file_extension": ".py",
      "mimetype": "text/x-python",
      "name": "python",
      "nbconvert_exporter": "python",
      "pygments_lexer": "ipython3",
      "version": "3.11.11"
    }
  },
  "nbformat": 4,
  "nbformat_minor": 0
}
