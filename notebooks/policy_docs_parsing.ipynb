{
 "cells": [
  {
   "cell_type": "code",
   "execution_count": 2,
   "metadata": {
    "executionInfo": {
     "elapsed": 2202,
     "status": "ok",
     "timestamp": 1741285857433,
     "user": {
      "displayName": "Prince",
      "userId": "13948313668249168316"
     },
     "user_tz": -330
    },
    "id": "al3c8Tsja_Q6"
   },
   "outputs": [],
   "source": [
    "import re, os\n",
    "import json\n",
    "import time, sqlite3\n",
    "import pymupdf4llm\n",
    "import tiktoken\n",
    "from langchain_text_splitters import MarkdownHeaderTextSplitter\n",
    "from langchain_groq import ChatGroq\n",
    "from dotenv import load_dotenv\n",
    "from textwrap import dedent"
   ]
  },
  {
   "cell_type": "code",
   "execution_count": null,
   "metadata": {
    "colab": {
     "base_uri": "https://localhost:8080/"
    },
    "executionInfo": {
     "elapsed": 40,
     "status": "ok",
     "timestamp": 1741285857458,
     "user": {
      "displayName": "Prince",
      "userId": "13948313668249168316"
     },
     "user_tz": -330
    },
    "id": "WyRgiy0E0jyF",
    "outputId": "baab1384-5ee4-4029-9c29-7f781bd300e1"
   },
   "outputs": [
    {
     "data": {
      "text/plain": [
       "True"
      ]
     },
     "execution_count": 3,
     "metadata": {},
     "output_type": "execute_result"
    }
   ],
   "source": [
    "load_dotenv('../data/.env')"
   ]
  },
  {
   "cell_type": "code",
   "execution_count": 4,
   "metadata": {
    "executionInfo": {
     "elapsed": 43,
     "status": "ok",
     "timestamp": 1741285859011,
     "user": {
      "displayName": "Prince",
      "userId": "13948313668249168316"
     },
     "user_tz": -330
    },
    "id": "QaRXqcgJ00SM"
   },
   "outputs": [],
   "source": [
    "def split_text_into_subsections(text):\n",
    "    \"\"\"\n",
    "    Splits text into subsections using MarkdownHeaderTextSplitter.\n",
    "    \"\"\"\n",
    "    headers_to_split_on = [(\"#\", \"Header 1\"), (\"##\", \"Header 2\"), (\"###\", \"Header 3\"), (\"**\", \"Header 4\")]\n",
    "    markdown_splitter = MarkdownHeaderTextSplitter(headers_to_split_on=headers_to_split_on)\n",
    "    sub_sections_pattern = re.compile(r\"\\*\\*\\d+\\.\\s\")\n",
    "    document_headers = markdown_splitter.split_text(text)\n",
    "    document_subsections = []\n",
    "    for doc_head in document_headers:\n",
    "        sub_sections = sub_sections_pattern.split(doc_head.page_content)\n",
    "        sub_sections = [ss.strip() for ss in sub_sections if ss.strip()]\n",
    "        document_subsections.extend(sub_sections)\n",
    "    return document_subsections"
   ]
  },
  {
   "cell_type": "code",
   "execution_count": 5,
   "metadata": {
    "executionInfo": {
     "elapsed": 17,
     "status": "ok",
     "timestamp": 1741285860618,
     "user": {
      "displayName": "Prince",
      "userId": "13948313668249168316"
     },
     "user_tz": -330
    },
    "id": "LamiS-HB1OYA"
   },
   "outputs": [],
   "source": [
    "def process_subsections_with_llm(document_subsections):\n",
    "    \"\"\" Given a document subsection return the intents and summary \"\"\"\n",
    "    chat = ChatGroq(\n",
    "        model_name='gemma2-9b-it',\n",
    "        temperature=0.1,\n",
    "        api_key=os.getenv('GROQ_API_KEY'),\n",
    "        max_tokens=2048\n",
    "      )\n",
    "    messages = [\n",
    "        {\n",
    "            \"role\": \"system\",\n",
    "            \"content\": dedent(\"\"\"\n",
    "            Think like a good customer service agent in E-commerce business and follow the below instructions as it is:\n",
    "              1. Extract the main intent covered in the text in one or two words. For ex - refund, replacement, etc.\n",
    "                Add multiple intents as applicable for the text, but not more than top 5.\n",
    "              2. Summarize the text into a list of very short sentences without loosing any critical info. Do not repeat same sentences.\n",
    "              3. Provide the collated output strictly in JSON format as shown below. Just give the output without any extra text or explanation.\n",
    "              {\n",
    "                \"intents\": [\"intent 1\", \"intent 2\", ...],\n",
    "                \"summary\": [\"short sentence 1\", \"sentence 2\", ...]\n",
    "              }\n",
    "            \"\"\")\n",
    "        }\n",
    "    ]\n",
    "    json_responses = []\n",
    "    for document_subsection in document_subsections:\n",
    "        current_messages = messages + [{\"role\": \"user\", \"content\": document_subsection}]\n",
    "        try:\n",
    "            response = chat.invoke(current_messages)\n",
    "            json_responses.append(json.loads(response.content))\n",
    "        except Exception as e:\n",
    "            print(f\"Error processing subsection with LLM: {e}\")\n",
    "    return json_responses"
   ]
  },
  {
   "cell_type": "code",
   "execution_count": 6,
   "metadata": {
    "executionInfo": {
     "elapsed": 5,
     "status": "ok",
     "timestamp": 1741285862622,
     "user": {
      "displayName": "Prince",
      "userId": "13948313668249168316"
     },
     "user_tz": -330
    },
    "id": "qltf3a1Q4LDR"
   },
   "outputs": [],
   "source": [
    "def save_processed_filename(filename, db_path, json_responses, json_output_dir):\n",
    "    \"\"\" Save the json file and processed filename to the database \"\"\"\n",
    "    try:\n",
    "        json_filename = os.path.splitext(filename)[0] + '.json'\n",
    "        json_file_path = os.path.join(json_output_dir, json_filename)\n",
    "        with open(json_file_path, 'w') as f:\n",
    "            json.dump(json_responses, f, indent=2)\n",
    "        print(f\"Saved JSON file: {json_file_path}\")\n",
    "\n",
    "        with sqlite3.connect(db_path) as conn:\n",
    "            cursor = conn.cursor()\n",
    "            cursor.execute(\"INSERT OR IGNORE INTO policy_processed (filename, status) VALUES (?, ?)\", (filename, 'parsing done'))\n",
    "            conn.commit()\n",
    "        print(f\"Saved processed filename: {filename}\")\n",
    "    except Exception as e:\n",
    "        print(f\"Error saving processed filename: {e}\")\n"
   ]
  },
  {
   "cell_type": "code",
   "execution_count": 7,
   "metadata": {
    "executionInfo": {
     "elapsed": 6,
     "status": "ok",
     "timestamp": 1741285864685,
     "user": {
      "displayName": "Prince",
      "userId": "13948313668249168316"
     },
     "user_tz": -330
    },
    "id": "uxRzLFkpoONX"
   },
   "outputs": [],
   "source": [
    "def check_file_processed(filename, db_path):\n",
    "    \"\"\" Check if a file has already been processed \"\"\"\n",
    "    try:\n",
    "        flag = None\n",
    "        with sqlite3.connect(db_path) as conn:\n",
    "            cursor = conn.cursor()\n",
    "            cursor.execute('''CREATE TABLE IF NOT EXISTS policy_processed (filename TEXT UNIQUE, status TEXT)''')\n",
    "            cursor.execute(\"SELECT 1 FROM policy_processed WHERE filename = ?\", (filename,))\n",
    "            if cursor.fetchone():\n",
    "                flag = True\n",
    "            else:\n",
    "                flag = False\n",
    "    except Exception as e:\n",
    "        print(f\"Error checking file processed: {e}\")\n",
    "        flag = False\n",
    "    return flag"
   ]
  },
  {
   "cell_type": "code",
   "execution_count": 8,
   "metadata": {
    "executionInfo": {
     "elapsed": 7,
     "status": "ok",
     "timestamp": 1741285866375,
     "user": {
      "displayName": "Prince",
      "userId": "13948313668249168316"
     },
     "user_tz": -330
    },
    "id": "G60rR4T-4fgY"
   },
   "outputs": [],
   "source": [
    "def process_pdf_file(pdf_file_path, db_path, json_output_dir):\n",
    "    \"\"\" Process a PDF file and return the processed\n",
    "    data in JSON format \"\"\"\n",
    "    filename = os.path.basename(pdf_file_path)\n",
    "    text = pymupdf4llm.to_markdown(pdf_file_path)\n",
    "    if text:\n",
    "        document_subsections = split_text_into_subsections(text)\n",
    "        json_responses = process_subsections_with_llm(document_subsections)\n",
    "        save_processed_filename(filename, db_path, json_responses, json_output_dir)\n",
    "    else:\n",
    "        print(f\"No text extracted from file: {filename}\")\n",
    "        json_responses = []\n",
    "    return json_responses"
   ]
  },
  {
   "cell_type": "code",
   "execution_count": 9,
   "metadata": {
    "executionInfo": {
     "elapsed": 32,
     "status": "ok",
     "timestamp": 1741285881070,
     "user": {
      "displayName": "Prince",
      "userId": "13948313668249168316"
     },
     "user_tz": -330
    },
    "id": "j4k9UCG2FaMY"
   },
   "outputs": [],
   "source": [
    "def main(input_dir, db_path, json_output_dir):\n",
    "    sleep_time = 3600\n",
    "    while True:\n",
    "        for filename in os.listdir(input_dir):\n",
    "            if filename.endswith(\".pdf\"):\n",
    "                file_processed_flag = check_file_processed(filename, db_path)\n",
    "                if not file_processed_flag:\n",
    "                    print(f\"Processing file: {filename}\")\n",
    "                    pdf_file_path = os.path.join(input_dir, filename)\n",
    "                    json_responses = process_pdf_file(pdf_file_path, db_path, json_output_dir)\n",
    "                    if len(json_responses) > 0:\n",
    "                        print(f\"Processed file: {filename}, {len(json_responses)} JSON record(s) saved.\")\n",
    "        time.sleep(sleep_time)"
   ]
  },
  {
   "cell_type": "code",
   "execution_count": null,
   "metadata": {
    "executionInfo": {
     "elapsed": 4,
     "status": "ok",
     "timestamp": 1741285882714,
     "user": {
      "displayName": "Prince",
      "userId": "13948313668249168316"
     },
     "user_tz": -330
    },
    "id": "lZgmRuQZqDq9"
   },
   "outputs": [],
   "source": [
    "# Define file paths\n",
    "input_dir = '../data/policy_docs'\n",
    "db_path = '../data/chatbot.db'\n",
    "json_output_dir = '../data/policy_docs'"
   ]
  },
  {
   "cell_type": "code",
   "execution_count": 11,
   "metadata": {
    "colab": {
     "base_uri": "https://localhost:8080/",
     "height": 228
    },
    "executionInfo": {
     "elapsed": 16697,
     "status": "error",
     "timestamp": 1741285900401,
     "user": {
      "displayName": "Prince",
      "userId": "13948313668249168316"
     },
     "user_tz": -330
    },
    "id": "fobWSPHvqFQP",
    "outputId": "1ce5f3f5-f007-4660-b8bc-94d144f35857"
   },
   "outputs": [
    {
     "ename": "KeyboardInterrupt",
     "evalue": "",
     "output_type": "error",
     "traceback": [
      "\u001b[0;31m---------------------------------------------------------------------------\u001b[0m",
      "\u001b[0;31mKeyboardInterrupt\u001b[0m                         Traceback (most recent call last)",
      "\u001b[0;32m<ipython-input-11-4ae2e21904ed>\u001b[0m in \u001b[0;36m<cell line: 0>\u001b[0;34m()\u001b[0m\n\u001b[0;32m----> 1\u001b[0;31m \u001b[0mmain\u001b[0m\u001b[0;34m(\u001b[0m\u001b[0minput_dir\u001b[0m\u001b[0;34m,\u001b[0m \u001b[0mdb_path\u001b[0m\u001b[0;34m,\u001b[0m \u001b[0mjson_output_dir\u001b[0m\u001b[0;34m)\u001b[0m\u001b[0;34m\u001b[0m\u001b[0;34m\u001b[0m\u001b[0m\n\u001b[0m",
      "\u001b[0;32m<ipython-input-9-f799bd4520e3>\u001b[0m in \u001b[0;36mmain\u001b[0;34m(input_dir, db_path, json_output_dir)\u001b[0m\n\u001b[1;32m     11\u001b[0m                     \u001b[0;32mif\u001b[0m \u001b[0mlen\u001b[0m\u001b[0;34m(\u001b[0m\u001b[0mjson_responses\u001b[0m\u001b[0;34m)\u001b[0m \u001b[0;34m>\u001b[0m \u001b[0;36m0\u001b[0m\u001b[0;34m:\u001b[0m\u001b[0;34m\u001b[0m\u001b[0;34m\u001b[0m\u001b[0m\n\u001b[1;32m     12\u001b[0m                         \u001b[0mprint\u001b[0m\u001b[0;34m(\u001b[0m\u001b[0;34mf\"Processed file: {filename}, {len(json_responses)} JSON record(s) saved.\"\u001b[0m\u001b[0;34m)\u001b[0m\u001b[0;34m\u001b[0m\u001b[0;34m\u001b[0m\u001b[0m\n\u001b[0;32m---> 13\u001b[0;31m         \u001b[0mtime\u001b[0m\u001b[0;34m.\u001b[0m\u001b[0msleep\u001b[0m\u001b[0;34m(\u001b[0m\u001b[0msleep_time\u001b[0m\u001b[0;34m)\u001b[0m\u001b[0;34m\u001b[0m\u001b[0;34m\u001b[0m\u001b[0m\n\u001b[0m",
      "\u001b[0;31mKeyboardInterrupt\u001b[0m: "
     ]
    }
   ],
   "source": [
    "main(input_dir, db_path, json_output_dir)"
   ]
  },
  {
   "cell_type": "code",
   "execution_count": 25,
   "metadata": {
    "colab": {
     "base_uri": "https://localhost:8080/"
    },
    "executionInfo": {
     "elapsed": 50,
     "status": "ok",
     "timestamp": 1741281841082,
     "user": {
      "displayName": "Prince",
      "userId": "13948313668249168316"
     },
     "user_tz": -330
    },
    "id": "1GusyzW7ew5k",
    "outputId": "629c7090-a2a4-4454-e684-eac6334f73b9"
   },
   "outputs": [
    {
     "name": "stdout",
     "output_type": "stream",
     "text": [
      "[\n",
      "  {\n",
      "    \"intents\": [\n",
      "      \"return\",\n",
      "      \"exchange\"\n",
      "    ],\n",
      "    \"summary\": [\n",
      "      \"There is a 30-day return or exchange policy.\",\n",
      "      \"Items must be unworn with tags attached.\",\n",
      "      \"Original packaging is required for returns.\",\n",
      "      \"A valid proof of purchase is needed.\"\n",
      "    ]\n",
      "  },\n",
      "  {\n",
      "    \"intents\": [\n",
      "      \"return\",\n",
      "      \"refund\"\n",
      "    ],\n",
      "    \"summary\": [\n",
      "      \"Contact the chatbot with order details.\",\n",
      "      \"The chatbot will generate a Return Authorization (RA) number.\",\n",
      "      \"Pack the item securely and include the RA number.\",\n",
      "      \"Ship the package using a trackable method.\",\n",
      "      \"Refunds will be processed within 7-10 business days.\"\n",
      "    ]\n",
      "  },\n",
      "  {\n",
      "    \"intents\": [\n",
      "      \"exchange\",\n",
      "      \"return\"\n",
      "    ],\n",
      "    \"summary\": [\n",
      "      \"Customers can exchange items for different sizes, colors, or styles.\",\n",
      "      \"Follow the return process outlined above using the chatbot.\",\n",
      "      \"Place a new order for the desired item.\",\n",
      "      \"Refunds for returned items will be issued separately after inspection.\"\n",
      "    ]\n",
      "  },\n",
      "  {\n",
      "    \"intents\": [\n",
      "      \"return\",\n",
      "      \"exchange\"\n",
      "    ],\n",
      "    \"summary\": [\n",
      "      \"Items marked as 'Final Sale' cannot be returned or exchanged.\",\n",
      "      \"Gift cards are not eligible for return or exchange.\",\n",
      "      \"Personalized or custom-made items are not returnable or exchangeable.\",\n",
      "      \"Used or damaged items (except those with manufacturer defects) are not returnable or exchangeable.\"\n",
      "    ]\n",
      "  },\n",
      "  {\n",
      "    \"intents\": [\n",
      "      \"refund\",\n",
      "      \"shipping\"\n",
      "    ],\n",
      "    \"summary\": [\n",
      "      \"Refunds will be issued to the original payment method.\",\n",
      "      \"Shipping costs are non-refundable unless the return is due to a manufacturing defect or an error on our part.\",\n",
      "      \"If the original payment method is no longer available, store credit will be issued.\"\n",
      "    ]\n",
      "  },\n",
      "  {\n",
      "    \"intents\": [\n",
      "      \"damaged item\",\n",
      "      \"refund\",\n",
      "      \"replacement\"\n",
      "    ],\n",
      "    \"summary\": [\n",
      "      \"Damaged or defective items should be reported within 7 days of delivery.\",\n",
      "      \"Photos of the damage are required when reporting the issue.\",\n",
      "      \"A replacement will be sent free of charge or a full refund will be issued.\",\n",
      "      \"The company may request the return of the damaged item before issuing a refund or replacement.\"\n",
      "    ]\n",
      "  },\n",
      "  {\n",
      "    \"intents\": [\n",
      "      \"payment\",\n",
      "      \"refund\"\n",
      "    ],\n",
      "    \"summary\": [\n",
      "      \"We accept major credit/debit cards, PayPal, and other payment methods.\",\n",
      "      \"Orders are charged at the time of purchase.\",\n",
      "      \"Refunds are credited back to the original payment method within 7-10 business days.\"\n",
      "    ]\n",
      "  }\n",
      "]\n"
     ]
    }
   ],
   "source": [
    "print(json.dumps(json_responses, indent=2))"
   ]
  },
  {
   "cell_type": "code",
   "execution_count": null,
   "metadata": {
    "id": "K6bTVfBiaF46"
   },
   "outputs": [],
   "source": []
  }
 ],
 "metadata": {
  "colab": {
   "provenance": []
  },
  "kernelspec": {
   "display_name": "Python 3",
   "name": "python3"
  },
  "language_info": {
   "codemirror_mode": {
    "name": "ipython",
    "version": 3
   },
   "file_extension": ".py",
   "mimetype": "text/x-python",
   "name": "python",
   "nbconvert_exporter": "python",
   "pygments_lexer": "ipython3",
   "version": "3.13.2"
  }
 },
 "nbformat": 4,
 "nbformat_minor": 0
}
